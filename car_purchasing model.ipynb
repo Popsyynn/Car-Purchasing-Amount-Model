{
 "cells": [
  {
   "cell_type": "markdown",
   "id": "805c07b6",
   "metadata": {},
   "source": [
    "The goal of this project was to predict the amount a particular customer can purchase a Car , given information like the customer's Age , Gender , Annual Salary ,Net worth and Credit card debt,\n",
    "I performed exploratory data analysis on the dataset firstly and from the analysis I gained the following insights.\n",
    "-There is a balance between the number of males and number of females in the dataset , no bias in gender.(0=male , 1=female)\n",
    "-There is a linear relationship between the car purchase amount and the annual salary , both features are highly positively \n",
    "correlated , Customers with higher salary are likely to spend more when purchasing a car.\n",
    "\n",
    "I also checked the correlation between the target variable(car purchase amount) and other features by plotting a heatmap.\n",
    "\n",
    "I made use of a simple linear Regression model because of the strong linear relationship between the target variable and the independent features,\n",
    "\n",
    "\n",
    "Source of dataset : Kaggle"
   ]
  },
  {
   "cell_type": "code",
   "execution_count": 1,
   "id": "ab95c891",
   "metadata": {},
   "outputs": [],
   "source": [
    "import pandas as pd\n",
    "import numpy as np\n",
    "import seaborn as sns\n",
    "import matplotlib.pyplot as plt"
   ]
  },
  {
   "cell_type": "code",
   "execution_count": 2,
   "id": "788a4b5d",
   "metadata": {},
   "outputs": [],
   "source": [
    "data = pd.read_csv('C:\\\\Users\\\\user\\\\Documents\\\\datasets\\\\Car_Purchasing_Data.csv')"
   ]
  },
  {
   "cell_type": "code",
   "execution_count": 3,
   "id": "db9c5143",
   "metadata": {},
   "outputs": [
    {
     "data": {
      "text/html": [
       "<div>\n",
       "<style scoped>\n",
       "    .dataframe tbody tr th:only-of-type {\n",
       "        vertical-align: middle;\n",
       "    }\n",
       "\n",
       "    .dataframe tbody tr th {\n",
       "        vertical-align: top;\n",
       "    }\n",
       "\n",
       "    .dataframe thead th {\n",
       "        text-align: right;\n",
       "    }\n",
       "</style>\n",
       "<table border=\"1\" class=\"dataframe\">\n",
       "  <thead>\n",
       "    <tr style=\"text-align: right;\">\n",
       "      <th></th>\n",
       "      <th>Customer Name</th>\n",
       "      <th>Customer e-mail</th>\n",
       "      <th>Country</th>\n",
       "      <th>Gender</th>\n",
       "      <th>Age</th>\n",
       "      <th>Annual Salary</th>\n",
       "      <th>Credit Card Debt</th>\n",
       "      <th>Net Worth</th>\n",
       "      <th>Car Purchase Amount</th>\n",
       "    </tr>\n",
       "  </thead>\n",
       "  <tbody>\n",
       "    <tr>\n",
       "      <th>0</th>\n",
       "      <td>Martina Avila</td>\n",
       "      <td>cubilia.Curae.Phasellus@quisaccumsanconvallis.edu</td>\n",
       "      <td>USA</td>\n",
       "      <td>0</td>\n",
       "      <td>42</td>\n",
       "      <td>62812.09301</td>\n",
       "      <td>11609.380910</td>\n",
       "      <td>238961.2505</td>\n",
       "      <td>35321.45877</td>\n",
       "    </tr>\n",
       "    <tr>\n",
       "      <th>1</th>\n",
       "      <td>Harlan Barnes</td>\n",
       "      <td>eu.dolor@diam.co.uk</td>\n",
       "      <td>USA</td>\n",
       "      <td>0</td>\n",
       "      <td>41</td>\n",
       "      <td>66646.89292</td>\n",
       "      <td>9572.957136</td>\n",
       "      <td>530973.9078</td>\n",
       "      <td>45115.52566</td>\n",
       "    </tr>\n",
       "    <tr>\n",
       "      <th>2</th>\n",
       "      <td>Naomi Rodriquez</td>\n",
       "      <td>vulputate.mauris.sagittis@ametconsectetueradip...</td>\n",
       "      <td>USA</td>\n",
       "      <td>1</td>\n",
       "      <td>43</td>\n",
       "      <td>53798.55112</td>\n",
       "      <td>11160.355060</td>\n",
       "      <td>638467.1773</td>\n",
       "      <td>42925.70921</td>\n",
       "    </tr>\n",
       "    <tr>\n",
       "      <th>3</th>\n",
       "      <td>Jade Cunningham</td>\n",
       "      <td>malesuada@dignissim.com</td>\n",
       "      <td>USA</td>\n",
       "      <td>1</td>\n",
       "      <td>58</td>\n",
       "      <td>79370.03798</td>\n",
       "      <td>14426.164850</td>\n",
       "      <td>548599.0524</td>\n",
       "      <td>67422.36313</td>\n",
       "    </tr>\n",
       "    <tr>\n",
       "      <th>4</th>\n",
       "      <td>Cedric Leach</td>\n",
       "      <td>felis.ullamcorper.viverra@egetmollislectus.net</td>\n",
       "      <td>USA</td>\n",
       "      <td>1</td>\n",
       "      <td>57</td>\n",
       "      <td>59729.15130</td>\n",
       "      <td>5358.712177</td>\n",
       "      <td>560304.0671</td>\n",
       "      <td>55915.46248</td>\n",
       "    </tr>\n",
       "  </tbody>\n",
       "</table>\n",
       "</div>"
      ],
      "text/plain": [
       "     Customer Name                                    Customer e-mail Country  \\\n",
       "0    Martina Avila  cubilia.Curae.Phasellus@quisaccumsanconvallis.edu     USA   \n",
       "1    Harlan Barnes                                eu.dolor@diam.co.uk     USA   \n",
       "2  Naomi Rodriquez  vulputate.mauris.sagittis@ametconsectetueradip...     USA   \n",
       "3  Jade Cunningham                            malesuada@dignissim.com     USA   \n",
       "4     Cedric Leach     felis.ullamcorper.viverra@egetmollislectus.net     USA   \n",
       "\n",
       "   Gender  Age  Annual Salary  Credit Card Debt    Net Worth  \\\n",
       "0       0   42    62812.09301      11609.380910  238961.2505   \n",
       "1       0   41    66646.89292       9572.957136  530973.9078   \n",
       "2       1   43    53798.55112      11160.355060  638467.1773   \n",
       "3       1   58    79370.03798      14426.164850  548599.0524   \n",
       "4       1   57    59729.15130       5358.712177  560304.0671   \n",
       "\n",
       "   Car Purchase Amount  \n",
       "0          35321.45877  \n",
       "1          45115.52566  \n",
       "2          42925.70921  \n",
       "3          67422.36313  \n",
       "4          55915.46248  "
      ]
     },
     "execution_count": 3,
     "metadata": {},
     "output_type": "execute_result"
    }
   ],
   "source": [
    "data.head()"
   ]
  },
  {
   "cell_type": "code",
   "execution_count": 4,
   "id": "80592f47",
   "metadata": {},
   "outputs": [
    {
     "data": {
      "text/html": [
       "<div>\n",
       "<style scoped>\n",
       "    .dataframe tbody tr th:only-of-type {\n",
       "        vertical-align: middle;\n",
       "    }\n",
       "\n",
       "    .dataframe tbody tr th {\n",
       "        vertical-align: top;\n",
       "    }\n",
       "\n",
       "    .dataframe thead th {\n",
       "        text-align: right;\n",
       "    }\n",
       "</style>\n",
       "<table border=\"1\" class=\"dataframe\">\n",
       "  <thead>\n",
       "    <tr style=\"text-align: right;\">\n",
       "      <th></th>\n",
       "      <th>Customer Name</th>\n",
       "      <th>Customer e-mail</th>\n",
       "      <th>Country</th>\n",
       "      <th>Gender</th>\n",
       "      <th>Age</th>\n",
       "      <th>Annual Salary</th>\n",
       "      <th>Credit Card Debt</th>\n",
       "      <th>Net Worth</th>\n",
       "      <th>Car Purchase Amount</th>\n",
       "    </tr>\n",
       "  </thead>\n",
       "  <tbody>\n",
       "    <tr>\n",
       "      <th>495</th>\n",
       "      <td>Walter</td>\n",
       "      <td>ligula@Cumsociis.ca</td>\n",
       "      <td>USA</td>\n",
       "      <td>0</td>\n",
       "      <td>41</td>\n",
       "      <td>71942.40291</td>\n",
       "      <td>6995.902524</td>\n",
       "      <td>541670.1016</td>\n",
       "      <td>48901.44342</td>\n",
       "    </tr>\n",
       "    <tr>\n",
       "      <th>496</th>\n",
       "      <td>Vanna</td>\n",
       "      <td>Cum.sociis.natoque@Sedmolestie.edu</td>\n",
       "      <td>USA</td>\n",
       "      <td>1</td>\n",
       "      <td>38</td>\n",
       "      <td>56039.49793</td>\n",
       "      <td>12301.456790</td>\n",
       "      <td>360419.0988</td>\n",
       "      <td>31491.41457</td>\n",
       "    </tr>\n",
       "    <tr>\n",
       "      <th>497</th>\n",
       "      <td>Pearl</td>\n",
       "      <td>penatibus.et@massanonante.com</td>\n",
       "      <td>USA</td>\n",
       "      <td>1</td>\n",
       "      <td>54</td>\n",
       "      <td>68888.77805</td>\n",
       "      <td>10611.606860</td>\n",
       "      <td>764531.3203</td>\n",
       "      <td>64147.28888</td>\n",
       "    </tr>\n",
       "    <tr>\n",
       "      <th>498</th>\n",
       "      <td>Nell</td>\n",
       "      <td>Quisque.varius@arcuVivamussit.net</td>\n",
       "      <td>USA</td>\n",
       "      <td>1</td>\n",
       "      <td>59</td>\n",
       "      <td>49811.99062</td>\n",
       "      <td>14013.034510</td>\n",
       "      <td>337826.6382</td>\n",
       "      <td>45442.15353</td>\n",
       "    </tr>\n",
       "    <tr>\n",
       "      <th>499</th>\n",
       "      <td>Marla</td>\n",
       "      <td>Camaron.marla@hotmail.com</td>\n",
       "      <td>USA</td>\n",
       "      <td>1</td>\n",
       "      <td>47</td>\n",
       "      <td>61370.67766</td>\n",
       "      <td>9391.341628</td>\n",
       "      <td>462946.4924</td>\n",
       "      <td>45107.22566</td>\n",
       "    </tr>\n",
       "  </tbody>\n",
       "</table>\n",
       "</div>"
      ],
      "text/plain": [
       "    Customer Name                     Customer e-mail Country  Gender  Age  \\\n",
       "495        Walter                 ligula@Cumsociis.ca     USA       0   41   \n",
       "496         Vanna  Cum.sociis.natoque@Sedmolestie.edu     USA       1   38   \n",
       "497         Pearl       penatibus.et@massanonante.com     USA       1   54   \n",
       "498          Nell   Quisque.varius@arcuVivamussit.net     USA       1   59   \n",
       "499         Marla           Camaron.marla@hotmail.com     USA       1   47   \n",
       "\n",
       "     Annual Salary  Credit Card Debt    Net Worth  Car Purchase Amount  \n",
       "495    71942.40291       6995.902524  541670.1016          48901.44342  \n",
       "496    56039.49793      12301.456790  360419.0988          31491.41457  \n",
       "497    68888.77805      10611.606860  764531.3203          64147.28888  \n",
       "498    49811.99062      14013.034510  337826.6382          45442.15353  \n",
       "499    61370.67766       9391.341628  462946.4924          45107.22566  "
      ]
     },
     "execution_count": 4,
     "metadata": {},
     "output_type": "execute_result"
    }
   ],
   "source": [
    "data.tail()"
   ]
  },
  {
   "cell_type": "code",
   "execution_count": 5,
   "id": "ace13012",
   "metadata": {},
   "outputs": [
    {
     "data": {
      "text/plain": [
       "Customer Name          0\n",
       "Customer e-mail        0\n",
       "Country                0\n",
       "Gender                 0\n",
       "Age                    0\n",
       "Annual Salary          0\n",
       "Credit Card Debt       0\n",
       "Net Worth              0\n",
       "Car Purchase Amount    0\n",
       "dtype: int64"
      ]
     },
     "execution_count": 5,
     "metadata": {},
     "output_type": "execute_result"
    }
   ],
   "source": [
    "data.isnull().sum()"
   ]
  },
  {
   "cell_type": "code",
   "execution_count": 6,
   "id": "84c59de6",
   "metadata": {},
   "outputs": [
    {
     "data": {
      "text/plain": [
       "array(['USA'], dtype=object)"
      ]
     },
     "execution_count": 6,
     "metadata": {},
     "output_type": "execute_result"
    }
   ],
   "source": [
    "data['Country'].unique()"
   ]
  },
  {
   "cell_type": "code",
   "execution_count": 7,
   "id": "0037b5f2",
   "metadata": {},
   "outputs": [
    {
     "data": {
      "text/plain": [
       "<AxesSubplot:xlabel='Gender', ylabel='count'>"
      ]
     },
     "execution_count": 7,
     "metadata": {},
     "output_type": "execute_result"
    },
    {
     "data": {
      "image/png": "[encoded data removed]",
      "text/plain": [
       "<Figure size 432x288 with 1 Axes>"
      ]
     },
     "metadata": {
      "needs_background": "light"
     },
     "output_type": "display_data"
    }
   ],
   "source": [
    "sns.countplot(data = data , x='Gender')"
   ]
  },
  {
   "cell_type": "code",
   "execution_count": 8,
   "id": "2983fe23",
   "metadata": {},
   "outputs": [
    {
     "data": {
      "text/plain": [
       "<AxesSubplot:xlabel='Gender', ylabel='Car Purchase Amount'>"
      ]
     },
     "execution_count": 8,
     "metadata": {},
     "output_type": "execute_result"
    },
    {
     "data": {
      "image/png": "[encoded data removed]",
      "text/plain": [
       "<Figure size 432x288 with 1 Axes>"
      ]
     },
     "metadata": {
      "needs_background": "light"
     },
     "output_type": "display_data"
    }
   ],
   "source": [
    "sns.boxplot(data = data , x='Gender', y='Car Purchase Amount', hue='Gender')"
   ]
  },
  {
   "cell_type": "code",
   "execution_count": 9,
   "id": "cd4f636d",
   "metadata": {},
   "outputs": [
    {
     "data": {
      "text/html": [
       "<div>\n",
       "<style scoped>\n",
       "    .dataframe tbody tr th:only-of-type {\n",
       "        vertical-align: middle;\n",
       "    }\n",
       "\n",
       "    .dataframe tbody tr th {\n",
       "        vertical-align: top;\n",
       "    }\n",
       "\n",
       "    .dataframe thead th {\n",
       "        text-align: right;\n",
       "    }\n",
       "</style>\n",
       "<table border=\"1\" class=\"dataframe\">\n",
       "  <thead>\n",
       "    <tr style=\"text-align: right;\">\n",
       "      <th></th>\n",
       "      <th>Gender</th>\n",
       "      <th>Age</th>\n",
       "      <th>Annual Salary</th>\n",
       "      <th>Credit Card Debt</th>\n",
       "      <th>Net Worth</th>\n",
       "      <th>Car Purchase Amount</th>\n",
       "    </tr>\n",
       "  </thead>\n",
       "  <tbody>\n",
       "    <tr>\n",
       "      <th>Gender</th>\n",
       "      <td>1.000000</td>\n",
       "      <td>-0.066488</td>\n",
       "      <td>-0.036499</td>\n",
       "      <td>0.024193</td>\n",
       "      <td>-0.008395</td>\n",
       "      <td>-0.066408</td>\n",
       "    </tr>\n",
       "    <tr>\n",
       "      <th>Age</th>\n",
       "      <td>-0.066488</td>\n",
       "      <td>1.000000</td>\n",
       "      <td>0.000361</td>\n",
       "      <td>0.031748</td>\n",
       "      <td>0.021794</td>\n",
       "      <td>0.633273</td>\n",
       "    </tr>\n",
       "    <tr>\n",
       "      <th>Annual Salary</th>\n",
       "      <td>-0.036499</td>\n",
       "      <td>0.000361</td>\n",
       "      <td>1.000000</td>\n",
       "      <td>0.049599</td>\n",
       "      <td>0.014767</td>\n",
       "      <td>0.617862</td>\n",
       "    </tr>\n",
       "    <tr>\n",
       "      <th>Credit Card Debt</th>\n",
       "      <td>0.024193</td>\n",
       "      <td>0.031748</td>\n",
       "      <td>0.049599</td>\n",
       "      <td>1.000000</td>\n",
       "      <td>-0.049378</td>\n",
       "      <td>0.028882</td>\n",
       "    </tr>\n",
       "    <tr>\n",
       "      <th>Net Worth</th>\n",
       "      <td>-0.008395</td>\n",
       "      <td>0.021794</td>\n",
       "      <td>0.014767</td>\n",
       "      <td>-0.049378</td>\n",
       "      <td>1.000000</td>\n",
       "      <td>0.488580</td>\n",
       "    </tr>\n",
       "    <tr>\n",
       "      <th>Car Purchase Amount</th>\n",
       "      <td>-0.066408</td>\n",
       "      <td>0.633273</td>\n",
       "      <td>0.617862</td>\n",
       "      <td>0.028882</td>\n",
       "      <td>0.488580</td>\n",
       "      <td>1.000000</td>\n",
       "    </tr>\n",
       "  </tbody>\n",
       "</table>\n",
       "</div>"
      ],
      "text/plain": [
       "                       Gender       Age  Annual Salary  Credit Card Debt  \\\n",
       "Gender               1.000000 -0.066488      -0.036499          0.024193   \n",
       "Age                 -0.066488  1.000000       0.000361          0.031748   \n",
       "Annual Salary       -0.036499  0.000361       1.000000          0.049599   \n",
       "Credit Card Debt     0.024193  0.031748       0.049599          1.000000   \n",
       "Net Worth           -0.008395  0.021794       0.014767         -0.049378   \n",
       "Car Purchase Amount -0.066408  0.633273       0.617862          0.028882   \n",
       "\n",
       "                     Net Worth  Car Purchase Amount  \n",
       "Gender               -0.008395            -0.066408  \n",
       "Age                   0.021794             0.633273  \n",
       "Annual Salary         0.014767             0.617862  \n",
       "Credit Card Debt     -0.049378             0.028882  \n",
       "Net Worth             1.000000             0.488580  \n",
       "Car Purchase Amount   0.488580             1.000000  "
      ]
     },
     "execution_count": 9,
     "metadata": {},
     "output_type": "execute_result"
    }
   ],
   "source": [
    "data.corr()"
   ]
  },
  {
   "cell_type": "code",
   "execution_count": 10,
   "id": "0573a1ce",
   "metadata": {},
   "outputs": [
    {
     "data": {
      "text/plain": [
       "<AxesSubplot:xlabel='Annual Salary', ylabel='Car Purchase Amount'>"
      ]
     },
     "execution_count": 10,
     "metadata": {},
     "output_type": "execute_result"
    },
    {
     "data": {
      "image/png": "[encoded data removed]",
      "text/plain": [
       "<Figure size 432x288 with 1 Axes>"
      ]
     },
     "metadata": {
      "needs_background": "light"
     },
     "output_type": "display_data"
    }
   ],
   "source": [
    "sns.scatterplot(data = data , x ='Annual Salary', y = 'Car Purchase Amount', hue = 'Gender')"
   ]
  },
  {
   "cell_type": "code",
   "execution_count": 11,
   "id": "65b58a9f",
   "metadata": {},
   "outputs": [
    {
     "data": {
      "text/plain": [
       "<AxesSubplot:>"
      ]
     },
     "execution_count": 11,
     "metadata": {},
     "output_type": "execute_result"
    },
    {
     "data": {
      "image/png": "[encoded data removed]",
      "text/plain": [
       "<Figure size 432x288 with 2 Axes>"
      ]
     },
     "metadata": {
      "needs_background": "light"
     },
     "output_type": "display_data"
    }
   ],
   "source": [
    "sns.heatmap(data = data.corr(),annot=True)"
   ]
  },
  {
   "cell_type": "code",
   "execution_count": 12,
   "id": "f7929f76",
   "metadata": {},
   "outputs": [],
   "source": [
    "from sklearn.linear_model import LinearRegression\n",
    "from sklearn.model_selection import train_test_split\n",
    "import numpy as np"
   ]
  },
  {
   "cell_type": "code",
   "execution_count": 13,
   "id": "b2aa1053",
   "metadata": {},
   "outputs": [],
   "source": [
    "X = data.drop(['Customer Name', 'Customer e-mail', 'Country', 'Car Purchase Amount'], axis=1).values"
   ]
  },
  {
   "cell_type": "code",
   "execution_count": 14,
   "id": "f75ab8e6",
   "metadata": {},
   "outputs": [],
   "source": [
    "Y = data['Car Purchase Amount'].values"
   ]
  },
  {
   "cell_type": "code",
   "execution_count": 15,
   "id": "8891814a",
   "metadata": {},
   "outputs": [
    {
     "data": {
      "text/plain": [
       "array([[0.00000000e+00, 4.20000000e+01, 6.28120930e+04, 1.16093809e+04,\n",
       "        2.38961250e+05],\n",
       "       [0.00000000e+00, 4.10000000e+01, 6.66468929e+04, 9.57295714e+03,\n",
       "        5.30973908e+05],\n",
       "       [1.00000000e+00, 4.30000000e+01, 5.37985511e+04, 1.11603551e+04,\n",
       "        6.38467177e+05],\n",
       "       ...,\n",
       "       [1.00000000e+00, 5.40000000e+01, 6.88887780e+04, 1.06116069e+04,\n",
       "        7.64531320e+05],\n",
       "       [1.00000000e+00, 5.90000000e+01, 4.98119906e+04, 1.40130345e+04,\n",
       "        3.37826638e+05],\n",
       "       [1.00000000e+00, 4.70000000e+01, 6.13706777e+04, 9.39134163e+03,\n",
       "        4.62946492e+05]])"
      ]
     },
     "execution_count": 15,
     "metadata": {},
     "output_type": "execute_result"
    }
   ],
   "source": [
    "X"
   ]
  },
  {
   "cell_type": "code",
   "execution_count": 16,
   "id": "57d1f21b",
   "metadata": {},
   "outputs": [],
   "source": [
    "X_train , X_test , Y_train , Y_test = train_test_split(X, Y, test_size=0.2)"
   ]
  },
  {
   "cell_type": "code",
   "execution_count": 17,
   "id": "bc750fc4",
   "metadata": {},
   "outputs": [],
   "source": [
    "model = LinearRegression()"
   ]
  },
  {
   "cell_type": "code",
   "execution_count": 18,
   "id": "1d3b95f1",
   "metadata": {},
   "outputs": [
    {
     "data": {
      "text/plain": [
       "LinearRegression()"
      ]
     },
     "execution_count": 18,
     "metadata": {},
     "output_type": "execute_result"
    }
   ],
   "source": [
    "model.fit(X_train, Y_train)"
   ]
  },
  {
   "cell_type": "code",
   "execution_count": 19,
   "id": "16f68606",
   "metadata": {},
   "outputs": [],
   "source": [
    "y_pred = model.predict(X_test)"
   ]
  },
  {
   "cell_type": "code",
   "execution_count": 20,
   "id": "b3e71e6d",
   "metadata": {},
   "outputs": [
    {
     "data": {
      "text/plain": [
       "array([29783.30860762, 41774.2691968 , 45667.80127802, 46521.75517394,\n",
       "       46048.06582065, 42616.43515243, 37617.97598613, 39308.57159771,\n",
       "       25070.75235282, 31562.74987474, 40521.23487541, 42948.34427739,\n",
       "       58749.2793685 , 43612.97460141, 60933.86533298, 39982.83291423,\n",
       "       38107.75010285, 47299.23775892, 37544.42556168, 30750.28401564,\n",
       "       52912.01811278, 65905.74633406, 53192.78638224, 39450.39025719,\n",
       "       39980.8484678 , 59602.22785421, 44396.01134237, 56417.36174642,\n",
       "       51154.23406772, 37288.43878663, 63616.49070338, 45941.18739786,\n",
       "       46004.05083065, 53237.29725122, 35702.81929752, 45921.93820694,\n",
       "       49296.92506567, 57440.10355483, 39108.81622653, 32084.56313299,\n",
       "       35326.19354083, 50024.10057153, 48089.31065039, 47911.11463061,\n",
       "       52459.17146279, 30193.89402736, 41512.21374183, 38918.75418843,\n",
       "       45431.70379327, 41535.15747368, 60823.31686065, 31151.90291684,\n",
       "       36591.43489306, 60019.30688595, 46834.43968542, 31367.02937446,\n",
       "       48819.234245  , 63081.40898114, 41857.93276457, 28670.27997358,\n",
       "       37221.44371724, 48342.55709001, 26431.66992503, 26212.24086332,\n",
       "       38749.7524952 , 52661.40736077, 56801.91381386, 48894.96518774,\n",
       "       29264.38686782, 45338.95059828, 10180.59588836, 12235.55294106,\n",
       "       41826.30032003, 52424.68023281, 46164.78874199, 40382.11306144,\n",
       "       42678.50890428, 46329.78367262, 58957.51587005, 33464.52344021,\n",
       "       64213.68472502, 42458.15792402, 38473.67587992, 60660.05226713,\n",
       "       47923.18912765, 65729.26588085, 38539.88961319, 44847.90503253,\n",
       "       52989.29472664, 44748.10072496, 29426.74848818, 54633.12494725,\n",
       "       32205.76907006, 57141.14149553, 66574.85999414, 41061.03724561,\n",
       "       30679.43050657, 43221.01823433, 39871.34309175, 36155.21396747])"
      ]
     },
     "execution_count": 20,
     "metadata": {},
     "output_type": "execute_result"
    }
   ],
   "source": [
    "y_pred"
   ]
  },
  {
   "cell_type": "code",
   "execution_count": 21,
   "id": "e9b4a3fd",
   "metadata": {},
   "outputs": [
    {
     "data": {
      "text/plain": [
       "array([29754.66271, 41451.71843, 45805.30588, 46892.26617, 45824.5656 ,\n",
       "       42705.11311, 37259.84386, 39433.40631, 25252.93221, 31978.9799 ,\n",
       "       40102.11417, 42747.53925, 58840.53964, 43724.4896 , 60526.97788,\n",
       "       40093.61981, 38182.30465, 47434.98265, 37744.54285, 30667.60927,\n",
       "       52654.40455, 66158.69494, 53496.48183, 39766.64804, 39606.24598,\n",
       "       59538.40327, 44650.36073, 56579.90338, 51046.42226, 37376.63439,\n",
       "       63248.76188, 45593.6849 , 46082.80993, 53655.53859, 35475.00344,\n",
       "       45509.69732, 49220.0218 , 57461.51158, 39135.03023, 32061.6467 ,\n",
       "       35716.31133, 49991.60697, 48383.69071, 47693.23482, 52150.41786,\n",
       "       30240.60975, 41679.7929 , 38674.66038, 45805.67186, 41769.38288,\n",
       "       61118.46947, 31408.62631, 36367.18452, 59758.73247, 46846.7305 ,\n",
       "       31526.04931, 48516.84335, 63140.05082, 42213.69644, 28733.68779,\n",
       "       37161.55393, 47970.76767, 26599.90843, 26499.31418, 38901.60925,\n",
       "       52785.16947, 56611.99784, 49079.61942, 28925.70549, 45442.15353,\n",
       "       10092.22509, 12536.93842, 41489.64123, 52707.96816, 45977.12502,\n",
       "       40095.0498 , 42592.88647, 46188.83514, 59045.51309, 33131.52734,\n",
       "       64147.28888, 42384.05128, 38042.80065, 60567.18837, 47610.11718,\n",
       "       65592.22012, 38174.87433, 45271.46081, 52983.89411, 44525.02085,\n",
       "       29425.83001, 54387.27727, 32553.53423, 56973.18105, 66888.93694,\n",
       "       40660.38317, 30394.82494, 42978.34626, 39892.93343, 36125.48846])"
      ]
     },
     "execution_count": 21,
     "metadata": {},
     "output_type": "execute_result"
    }
   ],
   "source": [
    "Y_test"
   ]
  },
  {
   "cell_type": "code",
   "execution_count": 22,
   "id": "fbccd075",
   "metadata": {},
   "outputs": [
    {
     "data": {
      "text/plain": [
       "0.9994972718431099"
      ]
     },
     "execution_count": 22,
     "metadata": {},
     "output_type": "execute_result"
    }
   ],
   "source": [
    "model.score(X_train, Y_train)"
   ]
  },
  {
   "cell_type": "code",
   "execution_count": 23,
   "id": "144d14e7",
   "metadata": {},
   "outputs": [],
   "source": [
    "from sklearn.metrics import r2_score"
   ]
  },
  {
   "cell_type": "code",
   "execution_count": 24,
   "id": "d605b563",
   "metadata": {},
   "outputs": [],
   "source": [
    "score= r2_score(Y_test , y_pred)"
   ]
  },
  {
   "cell_type": "code",
   "execution_count": 25,
   "id": "8a972e7d",
   "metadata": {},
   "outputs": [
    {
     "data": {
      "text/plain": [
       "0.9995136102176418"
      ]
     },
     "execution_count": 25,
     "metadata": {},
     "output_type": "execute_result"
    }
   ],
   "source": [
    "score"
   ]
  },
  {
   "cell_type": "code",
   "execution_count": 34,
   "id": "fc855a95",
   "metadata": {},
   "outputs": [
    {
     "data": {
      "text/plain": [
       "Text(0, 0.5, 'Y predicted')"
      ]
     },
     "execution_count": 34,
     "metadata": {},
     "output_type": "execute_result"
    },
    {
     "data": {
      "image/png": "[encoded data removed]",
      "text/plain": [
       "<Figure size 432x288 with 1 Axes>"
      ]
     },
     "metadata": {
      "needs_background": "light"
     },
     "output_type": "display_data"
    }
   ],
   "source": [
    "plt.scatter(Y_test, y_pred)\n",
    "plt.plot([Y_test.min(),Y_test.max()],[Y_test.min(),Y_test.max()], '-', c= 'green')\n",
    "plt.xlabel('Y_test')\n",
    "plt.ylabel('Y predicted')"
   ]
  },
  {
   "cell_type": "code",
   "execution_count": null,
   "id": "75f857f1",
   "metadata": {},
   "outputs": [],
   "source": []
  }
 ],
 "metadata": {
  "kernelspec": {
   "display_name": "Python 3",
   "language": "python",
   "name": "python3"
  },
  "language_info": {
   "codemirror_mode": {
    "name": "ipython",
    "version": 3
   },
   "file_extension": ".py",
   "mimetype": "text/x-python",
   "name": "python",
   "nbconvert_exporter": "python",
   "pygments_lexer": "ipython3",
   "version": "3.8.8"
  }
 },
 "nbformat": 4,
 "nbformat_minor": 5
}
